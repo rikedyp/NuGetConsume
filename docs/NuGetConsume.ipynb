{
 "cells": [
  {
   "cell_type": "markdown",
   "id": "70753954",
   "metadata": {},
   "source": [
    "# NuGetConsume"
   ]
  },
  {
   "cell_type": "markdown",
   "id": "e59bdc0b",
   "metadata": {},
   "source": [
    "NGC is an API to depend on NuGet packages in Dyalog APL.\n",
    "\n",
    "It takes care of installing from NuGet and some of the managing of `⎕USING` statements."
   ]
  },
  {
   "cell_type": "markdown",
   "id": "ab6242bf",
   "metadata": {},
   "source": [
    "## Features\n",
    "- add packages\n",
    "- get path to .dll for `⎕USING` (additional namespaces might not be possible automatically)\n",
    "- `NGC.Export'install'` will export .csproj and dependencies will be managed via `dotnet` CLI on user's system\n",
    "- `NGC.Export'publish'` will export DLLs\n",
    "- retarget existing project? TBD - might only be able to take packages list and attempt create new .NET project"
   ]
  },
  {
   "cell_type": "markdown",
   "id": "d49b48c5",
   "metadata": {},
   "source": [
    "## Todo\n",
    "- check can `⎕NEW` on existing .csproj\n",
    "- document info on platform compatibility\n",
    "- can we get DLL name from package info? esp. if different from package name...\n",
    "- can we get assembly namespaces from package info (I think Bjørn said not necessarily)\n",
    "- tmp path for .csproj by default?\n",
    "- can we have it *not* be a class?\n",
    "    - `⎕NEW thing` to carry around info seems nice\n",
    "    - but end up not hiding anything since all my methods are public?\n",
    "    - but what other way to hold the info? pass a namespace around to functions? "
   ]
  },
  {
   "cell_type": "markdown",
   "id": "65293490",
   "metadata": {},
   "source": [
    "## .NET projects\n",
    "NGC uses the `dotnet` Command Line Interface (CLI) to set up a .NET project which manages obtaining compatible versions of NuGet packages and their dependencies.\n",
    "\n",
    "The project is defined in a **.csproj** file, while dependencies and paths to assembly DLLs are listed in **obj/project.assets.json**."
   ]
  },
  {
   "cell_type": "markdown",
   "id": "61df5d4e",
   "metadata": {},
   "source": [
    "## .NET Versions\n",
    "Dyalog can be configured to use various .NET versions [*Dyalog Forums post*](https://forums.dyalog.com/viewtopic.php?f=22&t=1863)\n",
    "\n",
    "**Officially supported .NET versions:**\n",
    "|Dyalog version|.NET version|.NET Framework (Windows only)\n",
    "|---|---|---|\n",
    "|17.1|3.1|4,8|\n",
    "|18.2|3.1|4.8|\n",
    "|19.0|6.0|4.8|\n",
    "\n",
    "NGC will create and export .NET packages under a single .NET project targeting the currently running .NET version.\n",
    "\n",
    "NuGet Gallery package pages ([example: Clock](https://www.nuget.org/packages/Clock#supportedframeworks-body-tab)) list compatible versions under \"frameworks\" tab. **netstandard** is supported across .NET versions, while **netN** for some number **N** corresponds to a particular .NET version."
   ]
  },
  {
   "cell_type": "markdown",
   "id": "dfc0d9c2",
   "metadata": {},
   "source": [
    "## Usage\n",
    "Create an instance of the NGC class."
   ]
  },
  {
   "cell_type": "code",
   "execution_count": 48,
   "id": "c1c2956f",
   "metadata": {
    "scrolled": true
   },
   "outputs": [
    {
     "data": {
      "text/html": [
       "<pre class=\"language-APL\">ERRORS ENCOUNTERED: ⎕SE.Link.Create: Cannot link a non-empty namespace to a non-empty directory: #.NGC ←→ C:\\g\\NuGetConsume\\APLSource\n",
       "</pre>"
      ]
     },
     "execution_count": 48,
     "metadata": {},
     "output_type": "execute_result"
    }
   ],
   "source": [
    "]create NGC \"C:\\g\\NuGetConsume\\APLSource\""
   ]
  },
  {
   "cell_type": "code",
   "execution_count": 69,
   "id": "2b9803be",
   "metadata": {},
   "outputs": [
    {
     "data": {
      "text/html": [
       "<pre class=\"language-APL\">Imported: #.NGC ← C:\\g\\NuGetConsume\\APLSource\n",
       "</pre>"
      ]
     },
     "execution_count": 69,
     "metadata": {},
     "output_type": "execute_result"
    }
   ],
   "source": [
    "]link.refresh #.NGC"
   ]
  },
  {
   "cell_type": "code",
   "execution_count": 70,
   "id": "b04e6b77",
   "metadata": {},
   "outputs": [
    {
     "data": {
      "text/html": [
       "<pre class=\"language-APL\">\n",
       "\n",
       "\n",
       "</pre>"
      ]
     },
     "execution_count": 70,
     "metadata": {},
     "output_type": "execute_result"
    }
   ],
   "source": [
    "ngc←⎕NEW NGC.NGC'/tmp/myapp'"
   ]
  },
  {
   "cell_type": "markdown",
   "id": "91ca488a",
   "metadata": {},
   "source": [
    "***Note:*** Jupyter kernel can't print asynchronous output... [issue 82](https://github.com/Dyalog/dyalog-jupyter-kernel/issues/82)\n",
    "\n",
    "Or maybe unrelated... why does AddPackages output work?"
   ]
  },
  {
   "cell_type": "code",
   "execution_count": 71,
   "id": "2090dd78",
   "metadata": {},
   "outputs": [
    {
     "data": {
      "text/html": [
       "<pre class=\"language-APL\">/tmp/myapp\n",
       "</pre>"
      ]
     },
     "execution_count": 71,
     "metadata": {},
     "output_type": "execute_result"
    },
    {
     "data": {
      "text/html": [
       "<pre class=\"language-APL\">net48\n",
       "</pre>"
      ]
     },
     "execution_count": 71,
     "metadata": {},
     "output_type": "execute_result"
    }
   ],
   "source": [
    "⎕←ngc.project_dir\n",
    "⎕←ngc.dotnet_version"
   ]
  },
  {
   "cell_type": "code",
   "execution_count": 72,
   "id": "ea24714c",
   "metadata": {},
   "outputs": [
    {
     "data": {
      "text/html": [
       "<pre class=\"language-APL\">  Determining projects to restore...\n",
       "  Writing C:\\Users\\rpark\\AppData\\Local\\Temp\\tmp4A4.tmp\n",
       "info : Adding PackageReference for package 'Clock' into project 'C:\\tmp\\myapp\\myapp.csproj'.\n",
       "info :   CACHE https://api.nuget.org/v3/registration5-gz-semver2/clock/index.json\n",
       "info : Restoring packages for C:\\tmp\\myapp\\myapp.csproj...\n",
       "warn : NU1701: Package 'Html2Xhtml 1.1.2.4' was restored using '.NETFramework,Version=v4.6.1, .NETFramework,Version=v4.6.2, .NETFramework,Version=v4.7, .NETFramework,Version=v4.7.1, .NETFramework,Version=v4.7.2, .NETFramework,Version=v4.8' instead of the project target framework 'net6.0'. This package may not be fully compatible with your project.\n",
       "info : Package 'Clock' is compatible with all the specified frameworks in project 'C:\\tmp\\myapp\\myapp.csproj'.\n",
       "info : PackageReference for package 'Clock' version '1.0.3' updated in file 'C:\\tmp\\myapp\\myapp.csproj'.\n",
       "info : Assets file has not changed. Skipping assets file writing. Path: C:\\tmp\\myapp\\obj\\project.assets.json\n",
       "log  : Restored C:\\tmp\\myapp\\myapp.csproj (in 139 ms).\n",
       "</pre>"
      ]
     },
     "execution_count": 72,
     "metadata": {},
     "output_type": "execute_result"
    }
   ],
   "source": [
    "ngc.AddPackages 'Clock'"
   ]
  },
  {
   "cell_type": "code",
   "execution_count": 79,
   "id": "081dcc8c",
   "metadata": {},
   "outputs": [
    {
     "data": {
      "text/html": [
       "<pre class=\"language-APL\">┌─────────────────────────────────────────────────────────────────────────────┐\n",
       "│Clock,C:\\Users\\rpark/.nuget/packages/Clock/1.0.3/lib/netstandard1.3/Clock.dll│\n",
       "└─────────────────────────────────────────────────────────────────────────────┘\n",
       "</pre>"
      ]
     },
     "execution_count": 79,
     "metadata": {},
     "output_type": "execute_result"
    },
    {
     "data": {
      "text/html": [
       "<pre class=\"language-APL\">(Clock)\n",
       "</pre>"
      ]
     },
     "execution_count": 79,
     "metadata": {},
     "output_type": "execute_result"
    },
    {
     "data": {
      "text/html": [
       "<pre class=\"language-APL\">10/07/2023 19:44:20 +00:00\n",
       "</pre>"
      ]
     },
     "execution_count": 79,
     "metadata": {},
     "output_type": "execute_result"
    }
   ],
   "source": [
    "⎕USING←''\n",
    "⎕USING,←⎕←ngc.GetUsing'Clock'\n",
    "Clock\n",
    "Clock.UtcNow"
   ]
  },
  {
   "cell_type": "code",
   "execution_count": null,
   "id": "e927dd7e",
   "metadata": {},
   "outputs": [],
   "source": []
  }
 ],
 "metadata": {
  "kernelspec": {
   "display_name": "Dyalog APL",
   "language": "apl",
   "name": "dyalog-kernel"
  },
  "language_info": {
   "file_extension": ".apl",
   "mimetype": "text/apl",
   "name": "APL"
  }
 },
 "nbformat": 4,
 "nbformat_minor": 5
}
