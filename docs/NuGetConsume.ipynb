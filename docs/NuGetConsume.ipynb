{
 "cells": [
  {
   "cell_type": "markdown",
   "id": "da7da276",
   "metadata": {},
   "source": [
    "# NuGetConsume"
   ]
  },
  {
   "cell_type": "markdown",
   "id": "d13df583",
   "metadata": {},
   "source": [
    "NGC is an API to depend on NuGet packages in Dyalog APL.\n",
    "\n",
    "It takes care of installing from NuGet and some of the managing of `⎕USING` statements."
   ]
  },
  {
   "cell_type": "markdown",
   "id": "49f26995",
   "metadata": {},
   "source": [
    "`⎕using←'NSName,[thing]'`\n",
    "thing is either name of Assembly or path to file\n",
    "\n",
    "the bridge can call Assembly.Load and \"lots of the time?\" do the gymnastics to bring in the assembly"
   ]
  },
  {
   "cell_type": "markdown",
   "id": "0f75f6de",
   "metadata": {},
   "source": [
    "## Features\n",
    "- add packages\n",
    "- get path to .dll for `⎕USING` (additional namespaces might not be possible automatically)\n",
    "- maybe how to export .csproj?\n",
    "    - or just list of .NET/NuGet dependencies as part of ]Cider/Tatin config?\n",
    "- does NGC need stuff for when we export APL as .NET stuff?\n",
    "- `NGC.Export'publish'` will export DLLs\n",
    "    - `NGC.Export'publish' 'platform'`\n",
    "- `NGC.GetPath` (`FullPath` in nugetconsum)\n",
    "- retarget existing project? TBD - might only be able to take packages list and attempt create new .NET project"
   ]
  },
  {
   "cell_type": "markdown",
   "id": "90ea8747",
   "metadata": {},
   "source": [
    "## How to ship APL as a (NuGet/.NET) library\n",
    "- provide bridge and other DLLs/exes etc. as dependencies\n",
    "- `⎕NQ'Bind'` for export assembly needs dependency info\n",
    "\n",
    "#todo shipping APL generally:\n",
    "- end user non-APLer app\n",
    "- C# dev\n",
    "- APL dev e.g. UCMD"
   ]
  },
  {
   "cell_type": "markdown",
   "id": "9d7786b2",
   "metadata": {},
   "source": [
    "## Todo\n",
    "- check can `⎕NEW` on existing .csproj\n",
    "- document info on platform compatibility\n",
    "- can we get DLL name from package info? esp. if different from package name...\n",
    "- can we get assembly namespaces from package info (I think Bjørn said not necessarily)\n",
    "- tmp path for .csproj by default?\n",
    "- can we have it *not* be a class?\n",
    "    - `⎕NEW thing` to carry around info seems nice\n",
    "    - but end up not hiding anything since all my methods are public?\n",
    "    - but what other way to hold the info? pass a namespace around to functions? \n",
    "- do we need `Hook/NuGetPackageHandler` methods if we do dependencies from `project.assets.json`?\n",
    "- should user supply Assebly Namespaces at `AddPackage` or when setting `⎕USING`?\n",
    "- `⎕NULL in [3] will add & install the package, but not add it to ⎕USING` ?\n",
    "- can we get chromedriver exe location from package info?"
   ]
  },
  {
   "cell_type": "markdown",
   "id": "062d1cb7",
   "metadata": {},
   "source": [
    "## .NET projects\n",
    "NGC uses the `dotnet` Command Line Interface (CLI) to set up a .NET project which manages obtaining compatible versions of NuGet packages and their dependencies.\n",
    "\n",
    "The project is defined in a **.csproj** file, while dependencies and paths to assembly DLLs are listed in **obj/project.assets.json**."
   ]
  },
  {
   "cell_type": "markdown",
   "id": "5d4e26ba",
   "metadata": {},
   "source": [
    "## .NET Versions\n",
    "Dyalog can be configured to use various .NET versions [*Dyalog Forums post*](https://forums.dyalog.com/viewtopic.php?f=22&t=1863)\n",
    "\n",
    "> kind of bleh  \n",
    "> Developers need to install the **SDK** in order to target dotnet .csproj projects  \n",
    "> alternative?  \n",
    "> learn the nuget API and manage deps ourselves... also bleh\n",
    "\n",
    "**Officially supported .NET versions:**\n",
    "|Dyalog version|.NET version|.NET Framework (Windows only)\n",
    "|---|---|---|\n",
    "|17.1|3.1|4.8|\n",
    "|18.2|3.1|4.8|\n",
    "|19.0|6.0|4.8|\n",
    "\n",
    "NGC will create and export .NET packages under a single .NET project targeting the currently running .NET version.\n",
    "\n",
    "NuGet Gallery package pages ([example: Clock](https://www.nuget.org/packages/Clock#supportedframeworks-body-tab)) list compatible versions under \"frameworks\" tab. **netstandard** is supported across .NET versions, while **netN** for some number **N** corresponds to a particular .NET version."
   ]
  },
  {
   "cell_type": "markdown",
   "id": "433203cd",
   "metadata": {},
   "source": [
    "> **Note:** `dotnet` CLI seems just NETCore/New .NET or NetStandard - need to force .NET Framework?  \n",
    "> `dotnet new classlib --target-framework-override net48 -o /tmp/myapp`"
   ]
  },
  {
   "cell_type": "markdown",
   "id": "f3cea6a5",
   "metadata": {},
   "source": [
    "## Usage\n",
    "Create an instance of the NGC class."
   ]
  },
  {
   "cell_type": "code",
   "execution_count": 48,
   "id": "7b73d809",
   "metadata": {
    "scrolled": true
   },
   "outputs": [
    {
     "data": {
      "text/html": [
       "<pre class=\"language-APL\">ERRORS ENCOUNTERED: ⎕SE.Link.Create: Cannot link a non-empty namespace to a non-empty directory: #.NGC ←→ C:\\g\\NuGetConsume\\APLSource\n",
       "</pre>"
      ]
     },
     "execution_count": 48,
     "metadata": {},
     "output_type": "execute_result"
    }
   ],
   "source": [
    "]create NGC \"C:\\g\\NuGetConsume\\APLSource\""
   ]
  },
  {
   "cell_type": "code",
   "execution_count": 117,
   "id": "44663dd1",
   "metadata": {},
   "outputs": [
    {
     "data": {
      "text/html": [
       "<pre class=\"language-APL\">Imported: #.NGC ← C:\\g\\NuGetConsume\\APLSource\n",
       "</pre>"
      ]
     },
     "execution_count": 117,
     "metadata": {},
     "output_type": "execute_result"
    }
   ],
   "source": [
    "]link.refresh #.NGC"
   ]
  },
  {
   "cell_type": "markdown",
   "id": "1711be93",
   "metadata": {},
   "source": [
    "**Note:** Jupyter kernel doesn't seem to play nice with FSW - no idea why"
   ]
  },
  {
   "cell_type": "code",
   "execution_count": 118,
   "id": "9f4ebafe",
   "metadata": {
    "scrolled": true
   },
   "outputs": [
    {
     "data": {
      "text/html": [
       "<pre class=\"language-APL\">\n",
       "\n",
       "\n",
       "</pre>"
      ]
     },
     "execution_count": 118,
     "metadata": {},
     "output_type": "execute_result"
    }
   ],
   "source": [
    "ngc←⎕NEW NGC.NGC'/tmp/myapp3'"
   ]
  },
  {
   "cell_type": "code",
   "execution_count": 119,
   "id": "a1de5d51",
   "metadata": {},
   "outputs": [],
   "source": [
    "ngc.AddPackages 'Selenium.WebDriver' '4.1.0'"
   ]
  },
  {
   "cell_type": "markdown",
   "id": "a0644805",
   "metadata": {},
   "source": [
    "***Note:*** Jupyter kernel can't print asynchronous output... [issue 82](https://github.com/Dyalog/dyalog-jupyter-kernel/issues/82)\n",
    "\n",
    "Or maybe unrelated... why does AddPackages output work?"
   ]
  },
  {
   "cell_type": "code",
   "execution_count": 113,
   "id": "aeda96de",
   "metadata": {},
   "outputs": [
    {
     "data": {
      "text/html": [
       "<pre class=\"language-APL\">/tmp/myapp\n",
       "</pre>"
      ]
     },
     "execution_count": 113,
     "metadata": {},
     "output_type": "execute_result"
    },
    {
     "data": {
      "text/html": [
       "<pre class=\"language-APL\">net48\n",
       "</pre>"
      ]
     },
     "execution_count": 113,
     "metadata": {},
     "output_type": "execute_result"
    },
    {
     "data": {
      "text/html": [
       "<pre class=\"language-APL\">dotnet new classlib -f net48 -o /tmp/myapp\n",
       "</pre>"
      ]
     },
     "execution_count": 113,
     "metadata": {},
     "output_type": "execute_result"
    }
   ],
   "source": [
    "⎕←ngc.project_dir\n",
    "⎕←ngc.dotnet_version\n",
    " 'dotnet new classlib -f ',ngc.dotnet_version,' -o ',ngc.project_dir"
   ]
  },
  {
   "cell_type": "code",
   "execution_count": 114,
   "id": "dd8a5ad6",
   "metadata": {},
   "outputs": [
    {
     "data": {
      "text/html": [
       "<pre class=\"language-APL\">  Determining projects to restore...\n",
       "  Writing C:\\Users\\rpark\\AppData\\Local\\Temp\\tmpCAF7.tmp\n",
       "info : Adding PackageReference for package 'Clock' into project 'C:\\tmp\\myapp\\myapp.csproj'.\n",
       "info :   GET https://api.nuget.org/v3/registration5-gz-semver2/clock/index.json\n",
       "info :   OK https://api.nuget.org/v3/registration5-gz-semver2/clock/index.json 133ms\n",
       "info : Restoring packages for C:\\tmp\\myapp\\myapp.csproj...\n",
       "info : Package 'Clock' is compatible with all the specified frameworks in project 'C:\\tmp\\myapp\\myapp.csproj'.\n",
       "info : PackageReference for package 'Clock' version '1.0.3' added to file 'C:\\tmp\\myapp\\myapp.csproj'.\n",
       "info : Generating MSBuild file C:\\tmp\\myapp\\obj\\myapp.csproj.nuget.g.props.\n",
       "info : Writing assets file to disk. Path: C:\\tmp\\myapp\\obj\\project.assets.json\n",
       "log  : Restored C:\\tmp\\myapp\\myapp.csproj (in 117 ms).\n",
       "</pre>"
      ]
     },
     "execution_count": 114,
     "metadata": {},
     "output_type": "execute_result"
    }
   ],
   "source": [
    "ngc.AddPackages 'Clock'"
   ]
  },
  {
   "cell_type": "code",
   "execution_count": 115,
   "id": "ee1b1ccd",
   "metadata": {},
   "outputs": [
    {
     "name": "stderr",
     "output_type": "stream",
     "text": [
      "LENGTH ERROR: Mismatched left and right argument shapes\n",
      "Using[6] tgt←p=1+⍸'targets' 'net6.0'⍷n ⋄ pid←⍸p=tgt\n",
      "              ∧\n",
      "VALUE ERROR: Undefined name: Clock\n",
      "      Clock\n",
      "      ∧\n",
      "VALUE ERROR: Undefined name: Clock\n",
      "      Clock.UtcNow\n",
      "      ∧\n"
     ]
    }
   ],
   "source": [
    "⎕USING←''\n",
    "⎕USING,←⎕←ngc.GetUsing'Clock'\n",
    "Clock\n",
    "Clock.UtcNow"
   ]
  },
  {
   "cell_type": "markdown",
   "id": "62898261",
   "metadata": {},
   "source": [
    "## Parque.Net"
   ]
  },
  {
   "cell_type": "code",
   "execution_count": 80,
   "id": "8b55756e",
   "metadata": {},
   "outputs": [
    {
     "data": {
      "text/html": [
       "<pre class=\"language-APL\">  Determining projects to restore...\n",
       "  Writing C:\\Users\\rpark\\AppData\\Local\\Temp\\tmpC2A7.tmp\n",
       "info : Adding PackageReference for package 'Parquet.Net' into project 'C:\\tmp\\myapp\\myapp.csproj'.\n",
       "info : Restoring packages for C:\\tmp\\myapp\\myapp.csproj...\n",
       "warn : NU1701: Package 'Html2Xhtml 1.1.2.4' was restored using '.NETFramework,Version=v4.6.1, .NETFramework,Version=v4.6.2, .NETFramework,Version=v4.7, .NETFramework,Version=v4.7.1, .NETFramework,Version=v4.7.2, .NETFramework,Version=v4.8' instead of the project target framework 'net6.0'. This package may not be fully compatible with your project.\n",
       "info : Package 'Parquet.Net' is compatible with all the specified frameworks in project 'C:\\tmp\\myapp\\myapp.csproj'.\n",
       "info : PackageReference for package 'Parquet.Net' version '4.15.0' updated in file 'C:\\tmp\\myapp\\myapp.csproj'.\n",
       "info : Assets file has not changed. Skipping assets file writing. Path: C:\\tmp\\myapp\\obj\\project.assets.json\n",
       "log  : Restored C:\\tmp\\myapp\\myapp.csproj (in 183 ms).\n",
       "</pre>"
      ]
     },
     "execution_count": 80,
     "metadata": {},
     "output_type": "execute_result"
    }
   ],
   "source": [
    "ngc.AddPackages 'Parquet.Net' '4.15.0'"
   ]
  },
  {
   "cell_type": "code",
   "execution_count": 93,
   "id": "5ac94ac0",
   "metadata": {},
   "outputs": [
    {
     "data": {
      "text/html": [
       "<pre class=\"language-APL\">┌───────────────────────────────────────────────────────────────────────────────────────────────────────────────────┐\n",
       "│Parquet.Net,C:\\Users\\rpark/.nuget/packages/Parquet.Net/4.15.0/lib/netcoreapp2.1/Apache.Arrow.dll                   │\n",
       "├───────────────────────────────────────────────────────────────────────────────────────────────────────────────────┤\n",
       "│Parquet.Net,C:\\Users\\rpark/.nuget/packages/Parquet.Net/4.15.0/lib/net6.0/IronCompress.dll                          │\n",
       "├───────────────────────────────────────────────────────────────────────────────────────────────────────────────────┤\n",
       "│Parquet.Net,C:\\Users\\rpark/.nuget/packages/Parquet.Net/4.15.0/lib/netstandard2.0/Microsoft.Data.Analysis.dll       │\n",
       "├───────────────────────────────────────────────────────────────────────────────────────────────────────────────────┤\n",
       "│Parquet.Net,C:\\Users\\rpark/.nuget/packages/Parquet.Net/4.15.0/lib/net5.0/Microsoft.IO.RecyclableMemoryStream.dll   │\n",
       "├───────────────────────────────────────────────────────────────────────────────────────────────────────────────────┤\n",
       "│Parquet.Net,C:\\Users\\rpark/.nuget/packages/Parquet.Net/4.15.0/lib/netstandard2.0/Microsoft.ML.DataView.dll         │\n",
       "├───────────────────────────────────────────────────────────────────────────────────────────────────────────────────┤\n",
       "│Parquet.Net,C:\\Users\\rpark/.nuget/packages/Parquet.Net/4.15.0/lib/net6.0/Parquet.dll                               │\n",
       "├───────────────────────────────────────────────────────────────────────────────────────────────────────────────────┤\n",
       "│Parquet.Net,C:\\Users\\rpark/.nuget/packages/Parquet.Net/4.15.0/lib/net6.0/Snappier.dll                              │\n",
       "├───────────────────────────────────────────────────────────────────────────────────────────────────────────────────┤\n",
       "│Parquet.Net,C:\\Users\\rpark/.nuget/packages/Parquet.Net/4.15.0/lib/netstandard2.0/System.Collections.Immutable.dll  │\n",
       "├───────────────────────────────────────────────────────────────────────────────────────────────────────────────────┤\n",
       "│Parquet.Net,C:\\Users\\rpark/.nuget/packages/Parquet.Net/4.15.0/lib/net6.0/System.Runtime.CompilerServices.Unsafe.dll│\n",
       "├───────────────────────────────────────────────────────────────────────────────────────────────────────────────────┤\n",
       "│Parquet.Net,C:\\Users\\rpark/.nuget/packages/Parquet.Net/4.15.0/lib/net6.0/ZstdSharp.dll                             │\n",
       "└───────────────────────────────────────────────────────────────────────────────────────────────────────────────────┘\n",
       "</pre>"
      ]
     },
     "execution_count": 93,
     "metadata": {},
     "output_type": "execute_result"
    }
   ],
   "source": [
    "⍝⎕USING←'System.IO,System.IO.FileSystem,System.IO.Stream'\n",
    "⍪ngc.GetUsing'Parquet.Net'   ⍝ uh oh"
   ]
  },
  {
   "cell_type": "code",
   "execution_count": 99,
   "id": "d223aa98",
   "metadata": {},
   "outputs": [
    {
     "name": "stderr",
     "output_type": "stream",
     "text": [
      "Could not load file or assembly 'file:///C:\\Users\\rpark\\.nuget\\packages\\Parquet.Net\\4.15.0\\lib\\netcoreapp2.1\\Apache.Arrow.dll' or one of its dependencies. The system cannot find the file specified.\n",
      "Could not load file or assembly 'file:///C:\\Users\\rpark\\.nuget\\packages\\Parquet.Net\\4.15.0\\lib\\net6.0\\IronCompress.dll' or one of its dependencies. The system cannot find the file specified.\n",
      "Could not load file or assembly 'file:///C:\\Users\\rpark\\.nuget\\packages\\Parquet.Net\\4.15.0\\lib\\netstandard2.0\\Microsoft.Data.Analysis.dll' or one of its dependencies. The system cannot find the file specified.\n",
      "Could not load file or assembly 'file:///C:\\Users\\rpark\\.nuget\\packages\\Parquet.Net\\4.15.0\\lib\\net5.0\\Microsoft.IO.RecyclableMemoryStream.dll' or one of its dependencies. The system cannot find the file specified.\n",
      "Could not load file or assembly 'file:///C:\\Users\\rpark\\.nuget\\packages\\Parquet.Net\\4.15.0\\lib\\netstandard2.0\\Microsoft.ML.DataView.dll' or one of its dependencies. The system cannot find the file specified.\n",
      "Could not load file or assembly 'file:///C:\\Users\\rpark\\.nuget\\packages\\Parquet.Net\\4.15.0\\lib\\net6.0\\Snappier.dll' or one of its dependencies. The system cannot find the file specified.\n",
      "Could not load file or assembly 'file:///C:\\Users\\rpark\\.nuget\\packages\\Parquet.Net\\4.15.0\\lib\\netstandard2.0\\System.Collections.Immutable.dll' or one of its dependencies. The system cannot find the file specified.\n",
      "Could not load file or assembly 'file:///C:\\Users\\rpark\\.nuget\\packages\\Parquet.Net\\4.15.0\\lib\\net6.0\\System.Runtime.CompilerServices.Unsafe.dll' or one of its dependencies. The system cannot find the file specified.\n",
      "Could not load file or assembly 'file:///C:\\Users\\rpark\\.nuget\\packages\\Parquet.Net\\4.15.0\\lib\\net6.0\\ZstdSharp.dll' or one of its dependencies. The system cannot find the file specified.\n",
      "VALUE ERROR: Undefined name: Parquet\n",
      "      Parquet\n",
      "      ∧\n"
     ]
    }
   ],
   "source": [
    "⍝⎕USING←'System.IO,System.IO.dll,System.IO.FileSystem,System.IO.Stream'\n",
    "⎕USING←'' 'System' 'System.IO'\n",
    "⎕USING,←ngc.GetUsing'Parquet.Net'\n",
    "Parquet"
   ]
  }
 ],
 "metadata": {
  "kernelspec": {
   "display_name": "Dyalog APL",
   "language": "apl",
   "name": "dyalog-kernel"
  },
  "language_info": {
   "file_extension": ".apl",
   "mimetype": "text/apl",
   "name": "APL"
  }
 },
 "nbformat": 4,
 "nbformat_minor": 5
}
