{
 "cells": [
  {
   "cell_type": "markdown",
   "id": "3e4a9dd0",
   "metadata": {},
   "source": [
    "# NuGetConsume"
   ]
  },
  {
   "cell_type": "markdown",
   "id": "3e027b6d",
   "metadata": {},
   "source": [
    "NGC is an API to depend on NuGet packages in Dyalog APL.\n",
    "\n",
    "It takes care of installing from NuGet and some of the managing of `⎕USING` statements."
   ]
  },
  {
   "cell_type": "markdown",
   "id": "e6db307f",
   "metadata": {},
   "source": [
    "`⎕using←'NSName,[thing]'`\n",
    "thing is either name of Assembly or path to file\n",
    "\n",
    "the bridge can call Assembly.Load and \"lots of the time?\" do the gymnastics to bring in the assembly"
   ]
  },
  {
   "cell_type": "markdown",
   "id": "d9d085cf",
   "metadata": {},
   "source": [
    "## Features\n",
    "- add packages\n",
    "- get path to .dll for `⎕USING` (additional namespaces might not be possible automatically)\n",
    "- maybe how to export .csproj?\n",
    "    - or just list of .NET/NuGet dependencies as part of ]Cider/Tatin config?\n",
    "- does NGC need stuff for when we export APL as .NET stuff?\n",
    "- `NGC.Export'publish'` will export DLLs\n",
    "    - `NGC.Export'publish' 'platform'`\n",
    "- `NGC.GetPath` (`FullPath` in nugetconsum)\n",
    "- retarget existing project? TBD - might only be able to take packages list and attempt create new .NET project"
   ]
  },
  {
   "cell_type": "markdown",
   "id": "f560b375",
   "metadata": {},
   "source": [
    "## How to ship APL as a (NuGet/.NET) library\n",
    "- provide bridge and other DLLs/exes etc. as dependencies\n",
    "- `⎕NQ'Bind'` for export assembly needs dependency info\n",
    "\n",
    "#todo shipping APL generally:\n",
    "- end user non-APLer app\n",
    "- C# dev\n",
    "- APL dev e.g. UCMD"
   ]
  },
  {
   "cell_type": "markdown",
   "id": "87856190",
   "metadata": {},
   "source": [
    "## Todo\n",
    "- check can `⎕NEW` on existing .csproj\n",
    "- document info on platform compatibility\n",
    "- can we get DLL name from package info? esp. if different from package name...\n",
    "- can we get assembly namespaces from package info (I think Bjørn said not necessarily)\n",
    "- tmp path for .csproj by default?\n",
    "- can we have it *not* be a class?\n",
    "    - `⎕NEW thing` to carry around info seems nice\n",
    "    - but end up not hiding anything since all my methods are public?\n",
    "    - but what other way to hold the info? pass a namespace around to functions? \n",
    "- do we need `Hook/NuGetPackageHandler` methods if we do dependencies from `project.assets.json`?\n",
    "- should user supply Assebly Namespaces at `AddPackage` or when setting `⎕USING`?\n",
    "- `⎕NULL in [3] will add & install the package, but not add it to ⎕USING` ?\n",
    "- can we get chromedriver exe location from package info?"
   ]
  },
  {
   "cell_type": "markdown",
   "id": "596ffea7",
   "metadata": {},
   "source": [
    "## .NET projects\n",
    "NGC uses the `dotnet` Command Line Interface (CLI) to set up a .NET project which manages obtaining compatible versions of NuGet packages and their dependencies.\n",
    "\n",
    "The project is defined in a **.csproj** file, while dependencies and paths to assembly DLLs are listed in **obj/project.assets.json**."
   ]
  },
  {
   "cell_type": "markdown",
   "id": "93655381",
   "metadata": {},
   "source": [
    "## .NET Versions\n",
    "Dyalog can be configured to use various .NET versions [*Dyalog Forums post*](https://forums.dyalog.com/viewtopic.php?f=22&t=1863)\n",
    "\n",
    "> kind of bleh  \n",
    "> Developers need to install the **SDK** in order to target dotnet .csproj projects  \n",
    "> alternative?  \n",
    "> learn the nuget API and manage deps ourselves... also bleh\n",
    "\n",
    "**Officially supported .NET versions:**\n",
    "|Dyalog version|.NET version|.NET Framework (Windows only)\n",
    "|---|---|---|\n",
    "|17.1|3.1|4.8|\n",
    "|18.2|3.1|4.8|\n",
    "|19.0|6.0|4.8|\n",
    "\n",
    "NGC will create and export .NET packages under a single .NET project targeting the currently running .NET version.\n",
    "\n",
    "NuGet Gallery package pages ([example: Clock](https://www.nuget.org/packages/Clock#supportedframeworks-body-tab)) list compatible versions under \"frameworks\" tab. **netstandard** is supported across .NET versions, while **netN** for some number **N** corresponds to a particular .NET version."
   ]
  },
  {
   "cell_type": "markdown",
   "id": "a2eeeeff",
   "metadata": {},
   "source": [
    "> **Note:** `dotnet` CLI seems just NETCore/New .NET or NetStandard - need to force .NET Framework?  \n",
    "> `dotnet new classlib --target-framework-override net48 -o /tmp/myapp`"
   ]
  },
  {
   "cell_type": "markdown",
   "id": "43b1af0f",
   "metadata": {},
   "source": [
    "## Usage\n",
    "Create an instance of the NGC class."
   ]
  },
  {
   "cell_type": "code",
   "execution_count": 138,
   "id": "c5b6abc5",
   "metadata": {
    "scrolled": false
   },
   "outputs": [
    {
     "data": {
      "text/html": [
       "<pre class=\"language-APL\">#.NGC\n",
       "</pre>"
      ]
     },
     "execution_count": 138,
     "metadata": {},
     "output_type": "execute_result"
    }
   ],
   "source": [
    "]get \"C:\\g\\NuGetConsume\\APLSource\\NGC.apln\""
   ]
  },
  {
   "cell_type": "markdown",
   "id": "c5d30162",
   "metadata": {},
   "source": [
    "**Note:** Jupyter kernel doesn't seem to play nice with FSW - no idea why"
   ]
  },
  {
   "cell_type": "code",
   "execution_count": 139,
   "id": "6aa07219",
   "metadata": {
    "scrolled": false
   },
   "outputs": [
    {
     "data": {
      "text/html": [
       "<pre class=\"language-APL\">The template \"Class Library\" was created successfully.  \n",
       "                                                        \n",
       "Processing post-creation actions...                     \n",
       "Running 'dotnet restore' on C:\\tmp\\myapp\\myapp.csproj...\n",
       "  Determining projects to restore...                    \n",
       "  Restored C:\\tmp\\myapp\\myapp.csproj (in 95 ms).        \n",
       "Restore succeeded.                                      \n",
       "                                                        \n",
       "                                                        \n",
       "</pre>"
      ]
     },
     "execution_count": 139,
     "metadata": {},
     "output_type": "execute_result"
    }
   ],
   "source": [
    "ngc←⎕NEW NGC'/tmp/myapp'"
   ]
  },
  {
   "cell_type": "markdown",
   "id": "3243e868",
   "metadata": {},
   "source": [
    "***Note:*** Jupyter kernel can't print asynchronous output... [issue 82](https://github.com/Dyalog/dyalog-jupyter-kernel/issues/82)\n",
    "\n",
    "Or maybe unrelated... why does AddPackages output work?"
   ]
  },
  {
   "cell_type": "code",
   "execution_count": 140,
   "id": "58a5c1c1",
   "metadata": {},
   "outputs": [
    {
     "data": {
      "text/html": [
       "<pre class=\"language-APL\">/tmp/myapp\n",
       "</pre>"
      ]
     },
     "execution_count": 140,
     "metadata": {},
     "output_type": "execute_result"
    },
    {
     "data": {
      "text/html": [
       "<pre class=\"language-APL\">net48\n",
       "</pre>"
      ]
     },
     "execution_count": 140,
     "metadata": {},
     "output_type": "execute_result"
    }
   ],
   "source": [
    "⎕←ngc.project_dir\n",
    "⎕←ngc.dotnet_version"
   ]
  },
  {
   "cell_type": "code",
   "execution_count": 141,
   "id": "83e352af",
   "metadata": {},
   "outputs": [
    {
     "data": {
      "text/html": [
       "<pre class=\"language-APL\">  Determining projects to restore...\n",
       "  Writing C:\\Users\\rpark\\AppData\\Local\\Temp\\tmpD751.tmp\n",
       "info : Adding PackageReference for package 'Clock' into project 'C:\\tmp\\myapp\\myapp.csproj'.\n",
       "info :   GET https://api.nuget.org/v3/registration5-gz-semver2/clock/index.json\n",
       "info :   OK https://api.nuget.org/v3/registration5-gz-semver2/clock/index.json 137ms\n",
       "info : Restoring packages for C:\\tmp\\myapp\\myapp.csproj...\n",
       "info : Package 'Clock' is compatible with all the specified frameworks in project 'C:\\tmp\\myapp\\myapp.csproj'.\n",
       "info : PackageReference for package 'Clock' version '1.0.3' added to file 'C:\\tmp\\myapp\\myapp.csproj'.\n",
       "info : Generating MSBuild file C:\\tmp\\myapp\\obj\\myapp.csproj.nuget.g.props.\n",
       "info : Writing assets file to disk. Path: C:\\tmp\\myapp\\obj\\project.assets.json\n",
       "log  : Restored C:\\tmp\\myapp\\myapp.csproj (in 107 ms).\n",
       "</pre>"
      ]
     },
     "execution_count": 141,
     "metadata": {},
     "output_type": "execute_result"
    }
   ],
   "source": [
    "ngc.AddPackages 'Clock'"
   ]
  },
  {
   "cell_type": "code",
   "execution_count": 143,
   "id": "e0d80cef",
   "metadata": {},
   "outputs": [
    {
     "data": {
      "text/html": [
       "<pre class=\"language-APL\">Clock,C:\\Users\\rpark/.nuget/packages/Clock/1.0.3/lib/netstandard1.3/Clock.dll\n",
       "</pre>"
      ]
     },
     "execution_count": 143,
     "metadata": {},
     "output_type": "execute_result"
    },
    {
     "data": {
      "text/html": [
       "<pre class=\"language-APL\">(Clock)\n",
       "</pre>"
      ]
     },
     "execution_count": 143,
     "metadata": {},
     "output_type": "execute_result"
    },
    {
     "data": {
      "text/html": [
       "<pre class=\"language-APL\">11/07/2023 14:35:48 +00:00\n",
       "</pre>"
      ]
     },
     "execution_count": 143,
     "metadata": {},
     "output_type": "execute_result"
    }
   ],
   "source": [
    "⎕USING←''\n",
    "⎕←↑using←ngc.Using'Clock'\n",
    "⎕USING,←using\n",
    "Clock\n",
    "Clock.UtcNow"
   ]
  },
  {
   "cell_type": "markdown",
   "id": "8564a278",
   "metadata": {},
   "source": [
    "## Parque.Net"
   ]
  },
  {
   "cell_type": "code",
   "execution_count": 144,
   "id": "6f8db56c",
   "metadata": {},
   "outputs": [
    {
     "data": {
      "text/html": [
       "<pre class=\"language-APL\">  Determining projects to restore...\n",
       "  Writing C:\\Users\\rpark\\AppData\\Local\\Temp\\tmp407B.tmp\n",
       "info : Adding PackageReference for package 'Parquet.Net' into project 'C:\\tmp\\myapp\\myapp.csproj'.\n",
       "info : Restoring packages for C:\\tmp\\myapp\\myapp.csproj...\n",
       "info :   GET https://api.nuget.org/v3-flatcontainer/system.text.json/index.json\n",
       "info :   GET https://api.nuget.org/v3-flatcontainer/system.reflection.emit.lightweight/index.json\n",
       "info :   GET https://api.nuget.org/v3-flatcontainer/microsoft.bcl.asyncinterfaces/index.json\n",
       "info :   GET https://api.nuget.org/v3-flatcontainer/system.numerics.vectors/index.json\n",
       "info :   OK https://api.nuget.org/v3-flatcontainer/microsoft.bcl.asyncinterfaces/index.json 107ms\n",
       "info :   GET https://api.nuget.org/v3-flatcontainer/microsoft.bcl.asyncinterfaces/5.0.0/microsoft.bcl.asyncinterfaces.5.0.0.nupkg\n",
       "info :   OK https://api.nuget.org/v3-flatcontainer/system.numerics.vectors/index.json 133ms\n",
       "info :   GET https://api.nuget.org/v3-flatcontainer/system.numerics.vectors/4.4.0/system.numerics.vectors.4.4.0.nupkg\n",
       "info :   OK https://api.nuget.org/v3-flatcontainer/system.text.json/index.json 151ms\n",
       "info :   OK https://api.nuget.org/v3-flatcontainer/system.reflection.emit.lightweight/index.json 155ms\n",
       "info :   GET https://api.nuget.org/v3-flatcontainer/system.text.json/7.0.2/system.text.json.7.0.2.nupkg\n",
       "info :   OK https://api.nuget.org/v3-flatcontainer/microsoft.bcl.asyncinterfaces/5.0.0/microsoft.bcl.asyncinterfaces.5.0.0.nupkg 41ms\n",
       "info :   OK https://api.nuget.org/v3-flatcontainer/system.numerics.vectors/4.4.0/system.numerics.vectors.4.4.0.nupkg 27ms\n",
       "info :   GET https://api.nuget.org/v3-flatcontainer/system.reflection.emit.lightweight/4.7.0/system.reflection.emit.lightweight.4.7.0.nupkg\n",
       "info :   OK https://api.nuget.org/v3-flatcontainer/system.text.json/7.0.2/system.text.json.7.0.2.nupkg 34ms\n",
       "info :   OK https://api.nuget.org/v3-flatcontainer/system.reflection.emit.lightweight/4.7.0/system.reflection.emit.lightweight.4.7.0.nupkg 51ms\n",
       "info :   GET https://api.nuget.org/v3-flatcontainer/microsoft.bcl.asyncinterfaces/7.0.0/microsoft.bcl.asyncinterfaces.7.0.0.nupkg\n",
       "info :   GET https://api.nuget.org/v3-flatcontainer/system.text.encodings.web/index.json\n",
       "info :   OK https://api.nuget.org/v3-flatcontainer/microsoft.bcl.asyncinterfaces/7.0.0/microsoft.bcl.asyncinterfaces.7.0.0.nupkg 22ms\n",
       "info :   OK https://api.nuget.org/v3-flatcontainer/system.text.encodings.web/index.json 112ms\n",
       "info :   GET https://api.nuget.org/v3-flatcontainer/system.text.encodings.web/7.0.0/system.text.encodings.web.7.0.0.nupkg\n",
       "info :   OK https://api.nuget.org/v3-flatcontainer/system.text.encodings.web/7.0.0/system.text.encodings.web.7.0.0.nupkg 15ms\n",
       "info : Installed Microsoft.Bcl.AsyncInterfaces 7.0.0 from https://api.nuget.org/v3/index.json with content hash 3aeMZ1N0lJoSyzqiP03hqemtb1BijhsJADdobn/4nsMJ8V1H+CrpuduUe4hlRdx+ikBQju1VGjMD1GJ3Sk05Eg==.\n",
       "info : Installed System.Text.Encodings.Web 7.0.0 from https://api.nuget.org/v3/index.json with content hash OP6umVGxc0Z0MvZQBVigj4/U31Pw72ITihDWP9WiWDm+q5aoe0GaJivsfYGq53o6dxH7DcXWiCTl7+0o2CGdmg==.\n",
       "info : Installed Microsoft.Bcl.AsyncInterfaces 5.0.0 from https://api.nuget.org/v3/index.json with content hash W8DPQjkMScOMTtJbPwmPyj9c3zYSFGawDW3jwlBOOsnY+EzZFLgNQ/UMkK35JmkNOVPdCyPr2Tw7Vv9N+KA3ZQ==.\n",
       "info : Installed System.Reflection.Emit.Lightweight 4.7.0 from https://api.nuget.org/v3/index.json with content hash a4OLB4IITxAXJeV74MDx49Oq2+PsF6Sml54XAFv+2RyWwtDBcabzoxiiJRhdhx+gaohLh4hEGCLQyBozXoQPqA==.\n",
       "info : Installed System.Numerics.Vectors 4.4.0 from https://api.nuget.org/v3/index.json with content hash UiLzLW+Lw6HLed1Hcg+8jSRttrbuXv7DANVj0DkL9g6EnnzbL75EB7EWsw5uRbhxd/4YdG8li5XizGWepmG3PQ==.\n",
       "info : Installed System.Text.Json 7.0.2 from https://api.nuget.org/v3/index.json with content hash /LZf/JrGyilojqwpaywb+sSz8Tew7ij4K/Sk+UW8AKfAK7KRhR6mKpKtTm06cYA7bCpGTWfYksIW+mVsdxPegQ==.\n",
       "info : Package 'Parquet.Net' is compatible with all the specified frameworks in project 'C:\\tmp\\myapp\\myapp.csproj'.\n",
       "info : PackageReference for package 'Parquet.Net' version '4.15.0' added to file 'C:\\tmp\\myapp\\myapp.csproj'.\n",
       "info : Generating MSBuild file C:\\tmp\\myapp\\obj\\myapp.csproj.nuget.g.targets.\n",
       "info : Writing assets file to disk. Path: C:\\tmp\\myapp\\obj\\project.assets.json\n",
       "log  : Restored C:\\tmp\\myapp\\myapp.csproj (in 2.95 sec).\n",
       "</pre>"
      ]
     },
     "execution_count": 144,
     "metadata": {},
     "output_type": "execute_result"
    }
   ],
   "source": [
    "ngc.AddPackages 'Parquet.Net' '4.15.0'"
   ]
  },
  {
   "cell_type": "code",
   "execution_count": 146,
   "id": "b7b2000b",
   "metadata": {},
   "outputs": [
    {
     "data": {
      "text/html": [
       "<pre class=\"language-APL\">┌─────────────────────────────────────────────────────────────────────────────────────────────────────────────────────────────┐\n",
       "│Parquet.Net,C:\\Users\\rpark/.nuget/packages/Parquet.Net/4.15.0/lib/netstandard1.3/Apache.Arrow.dll                            │\n",
       "├─────────────────────────────────────────────────────────────────────────────────────────────────────────────────────────────┤\n",
       "│Parquet.Net,C:\\Users\\rpark/.nuget/packages/Parquet.Net/4.15.0/lib/netstandard2.0/IronCompress.dll                            │\n",
       "├─────────────────────────────────────────────────────────────────────────────────────────────────────────────────────────────┤\n",
       "│Parquet.Net,C:\\Users\\rpark/.nuget/packages/Parquet.Net/4.15.0/lib/net462/Microsoft.Bcl.AsyncInterfaces.dll                   │\n",
       "├─────────────────────────────────────────────────────────────────────────────────────────────────────────────────────────────┤\n",
       "│Parquet.Net,C:\\Users\\rpark/.nuget/packages/Parquet.Net/4.15.0/lib/netstandard2.0/Microsoft.Data.Analysis.dll                 │\n",
       "├─────────────────────────────────────────────────────────────────────────────────────────────────────────────────────────────┤\n",
       "│Parquet.Net,C:\\Users\\rpark/.nuget/packages/Parquet.Net/4.15.0/lib/net462/Microsoft.IO.RecyclableMemoryStream.dll             │\n",
       "├─────────────────────────────────────────────────────────────────────────────────────────────────────────────────────────────┤\n",
       "│Parquet.Net,C:\\Users\\rpark/.nuget/packages/Parquet.Net/4.15.0/lib/netstandard2.0/Microsoft.ML.DataView.dll                   │\n",
       "├─────────────────────────────────────────────────────────────────────────────────────────────────────────────────────────────┤\n",
       "│Parquet.Net,C:\\Users\\rpark/.nuget/packages/Parquet.Net/4.15.0/lib/net46/Microsoft.Win32.Primitives.dll                       │\n",
       "├─────────────────────────────────────────────────────────────────────────────────────────────────────────────────────────────┤\n",
       "│Parquet.Net,C:\\Users\\rpark/.nuget/packages/Parquet.Net/4.15.0/lib/netstandard2.0/Parquet.dll                                 │\n",
       "├─────────────────────────────────────────────────────────────────────────────────────────────────────────────────────────────┤\n",
       "│Parquet.Net,C:\\Users\\rpark/.nuget/packages/Parquet.Net/4.15.0/lib/netstandard2.0/Snappier.dll                                │\n",
       "├─────────────────────────────────────────────────────────────────────────────────────────────────────────────────────────────┤\n",
       "│Parquet.Net,C:\\Users\\rpark/.nuget/packages/Parquet.Net/4.15.0/lib/net463/System.AppContext.dll                               │\n",
       "├─────────────────────────────────────────────────────────────────────────────────────────────────────────────────────────────┤\n",
       "│Parquet.Net,C:\\Users\\rpark/.nuget/packages/Parquet.Net/4.15.0/lib/net461/System.Buffers.dll                                  │\n",
       "├─────────────────────────────────────────────────────────────────────────────────────────────────────────────────────────────┤\n",
       "│Parquet.Net,C:\\Users\\rpark/.nuget/packages/Parquet.Net/4.15.0/lib/netstandard2.0/System.Collections.Immutable.dll            │\n",
       "├─────────────────────────────────────────────────────────────────────────────────────────────────────────────────────────────┤\n",
       "│Parquet.Net,C:\\Users\\rpark/.nuget/packages/Parquet.Net/4.15.0/lib/net46/System.Console.dll                                   │\n",
       "├─────────────────────────────────────────────────────────────────────────────────────────────────────────────────────────────┤\n",
       "│Parquet.Net,C:\\Users\\rpark/.nuget/packages/Parquet.Net/4.15.0/lib/net46/System.Diagnostics.DiagnosticSource.dll              │\n",
       "├─────────────────────────────────────────────────────────────────────────────────────────────────────────────────────────────┤\n",
       "│Parquet.Net,C:\\Users\\rpark/.nuget/packages/Parquet.Net/4.15.0/lib/net462/System.Diagnostics.Tracing.dll                      │\n",
       "├─────────────────────────────────────────────────────────────────────────────────────────────────────────────────────────────┤\n",
       "│Parquet.Net,C:\\Users\\rpark/.nuget/packages/Parquet.Net/4.15.0/lib/net46/System.Globalization.Calendars.dll                   │\n",
       "├─────────────────────────────────────────────────────────────────────────────────────────────────────────────────────────────┤\n",
       "│Parquet.Net,C:\\Users\\rpark/.nuget/packages/Parquet.Net/4.15.0/lib/net462/System.IO.dll                                       │\n",
       "├─────────────────────────────────────────────────────────────────────────────────────────────────────────────────────────────┤\n",
       "│Parquet.Net,C:\\Users\\rpark/.nuget/packages/Parquet.Net/4.15.0/lib/net46/System.IO.Compression.dll                            │\n",
       "├─────────────────────────────────────────────────────────────────────────────────────────────────────────────────────────────┤\n",
       "│Parquet.Net,C:\\Users\\rpark/.nuget/packages/Parquet.Net/4.15.0/lib/net46/System.IO.Compression.ZipFile.dll                    │\n",
       "├─────────────────────────────────────────────────────────────────────────────────────────────────────────────────────────────┤\n",
       "│Parquet.Net,C:\\Users\\rpark/.nuget/packages/Parquet.Net/4.15.0/lib/net46/System.IO.FileSystem.dll                             │\n",
       "├─────────────────────────────────────────────────────────────────────────────────────────────────────────────────────────────┤\n",
       "│Parquet.Net,C:\\Users\\rpark/.nuget/packages/Parquet.Net/4.15.0/lib/net46/System.IO.FileSystem.Primitives.dll                  │\n",
       "├─────────────────────────────────────────────────────────────────────────────────────────────────────────────────────────────┤\n",
       "│Parquet.Net,C:\\Users\\rpark/.nuget/packages/Parquet.Net/4.15.0/lib/net463/System.Linq.dll                                     │\n",
       "├─────────────────────────────────────────────────────────────────────────────────────────────────────────────────────────────┤\n",
       "│Parquet.Net,C:\\Users\\rpark/.nuget/packages/Parquet.Net/4.15.0/lib/net463/System.Linq.Expressions.dll                         │\n",
       "├─────────────────────────────────────────────────────────────────────────────────────────────────────────────────────────────┤\n",
       "│Parquet.Net,C:\\Users\\rpark/.nuget/packages/Parquet.Net/4.15.0/lib/net461/System.Memory.dll                                   │\n",
       "├─────────────────────────────────────────────────────────────────────────────────────────────────────────────────────────────┤\n",
       "│Parquet.Net,C:\\Users\\rpark/.nuget/packages/Parquet.Net/4.15.0/lib/net46/System.Net.Http.dll                                  │\n",
       "├─────────────────────────────────────────────────────────────────────────────────────────────────────────────────────────────┤\n",
       "│Parquet.Net,C:\\Users\\rpark/.nuget/packages/Parquet.Net/4.15.0/lib/net46/System.Net.Sockets.dll                               │\n",
       "├─────────────────────────────────────────────────────────────────────────────────────────────────────────────────────────────┤\n",
       "│Parquet.Net,C:\\Users\\rpark/.nuget/packages/Parquet.Net/4.15.0/lib/net46/System.Numerics.Vectors.dll                          │\n",
       "├─────────────────────────────────────────────────────────────────────────────────────────────────────────────────────────────┤\n",
       "│Parquet.Net,C:\\Users\\rpark/.nuget/packages/Parquet.Net/4.15.0/lib/net462/System.Reflection.dll                               │\n",
       "├─────────────────────────────────────────────────────────────────────────────────────────────────────────────────────────────┤\n",
       "│Parquet.Net,C:\\Users\\rpark/.nuget/packages/Parquet.Net/4.15.0/lib/net462/System.Runtime.dll                                  │\n",
       "├─────────────────────────────────────────────────────────────────────────────────────────────────────────────────────────────┤\n",
       "│Parquet.Net,C:\\Users\\rpark/.nuget/packages/Parquet.Net/4.15.0/lib/net461/System.Runtime.CompilerServices.Unsafe.dll          │\n",
       "├─────────────────────────────────────────────────────────────────────────────────────────────────────────────────────────────┤\n",
       "│Parquet.Net,C:\\Users\\rpark/.nuget/packages/Parquet.Net/4.15.0/lib/net462/System.Runtime.Extensions.dll                       │\n",
       "├─────────────────────────────────────────────────────────────────────────────────────────────────────────────────────────────┤\n",
       "│Parquet.Net,C:\\Users\\rpark/.nuget/packages/Parquet.Net/4.15.0/lib/net463/System.Runtime.InteropServices.dll                  │\n",
       "├─────────────────────────────────────────────────────────────────────────────────────────────────────────────────────────────┤\n",
       "│Parquet.Net,C:\\Users\\rpark/.nuget/packages/Parquet.Net/4.15.0/lib/net45/System.Runtime.InteropServices.RuntimeInformation.dll│\n",
       "├─────────────────────────────────────────────────────────────────────────────────────────────────────────────────────────────┤\n",
       "│Parquet.Net,C:\\Users\\rpark/.nuget/packages/Parquet.Net/4.15.0/lib/net463/System.Security.Cryptography.Algorithms.dll         │\n",
       "├─────────────────────────────────────────────────────────────────────────────────────────────────────────────────────────────┤\n",
       "│Parquet.Net,C:\\Users\\rpark/.nuget/packages/Parquet.Net/4.15.0/lib/net46/System.Security.Cryptography.Encoding.dll            │\n",
       "├─────────────────────────────────────────────────────────────────────────────────────────────────────────────────────────────┤\n",
       "│Parquet.Net,C:\\Users\\rpark/.nuget/packages/Parquet.Net/4.15.0/lib/net46/System.Security.Cryptography.Primitives.dll          │\n",
       "├─────────────────────────────────────────────────────────────────────────────────────────────────────────────────────────────┤\n",
       "│Parquet.Net,C:\\Users\\rpark/.nuget/packages/Parquet.Net/4.15.0/lib/net461/System.Security.Cryptography.X509Certificates.dll   │\n",
       "├─────────────────────────────────────────────────────────────────────────────────────────────────────────────────────────────┤\n",
       "│Parquet.Net,C:\\Users\\rpark/.nuget/packages/Parquet.Net/4.15.0/lib/net462/System.Text.Encodings.Web.dll                       │\n",
       "├─────────────────────────────────────────────────────────────────────────────────────────────────────────────────────────────┤\n",
       "│Parquet.Net,C:\\Users\\rpark/.nuget/packages/Parquet.Net/4.15.0/lib/net462/System.Text.Json.dll                                │\n",
       "├─────────────────────────────────────────────────────────────────────────────────────────────────────────────────────────────┤\n",
       "│Parquet.Net,C:\\Users\\rpark/.nuget/packages/Parquet.Net/4.15.0/lib/net463/System.Text.RegularExpressions.dll                  │\n",
       "├─────────────────────────────────────────────────────────────────────────────────────────────────────────────────────────────┤\n",
       "│Parquet.Net,C:\\Users\\rpark/.nuget/packages/Parquet.Net/4.15.0/lib/net461/System.Threading.Tasks.Extensions.dll               │\n",
       "├─────────────────────────────────────────────────────────────────────────────────────────────────────────────────────────────┤\n",
       "│Parquet.Net,C:\\Users\\rpark/.nuget/packages/Parquet.Net/4.15.0/lib/net47/System.ValueTuple.dll                                │\n",
       "├─────────────────────────────────────────────────────────────────────────────────────────────────────────────────────────────┤\n",
       "│Parquet.Net,C:\\Users\\rpark/.nuget/packages/Parquet.Net/4.15.0/lib/net46/System.Xml.ReaderWriter.dll                          │\n",
       "├─────────────────────────────────────────────────────────────────────────────────────────────────────────────────────────────┤\n",
       "│Parquet.Net,C:\\Users\\rpark/.nuget/packages/Parquet.Net/4.15.0/lib/net461/ZstdSharp.dll                                       │\n",
       "└─────────────────────────────────────────────────────────────────────────────────────────────────────────────────────────────┘\n",
       "</pre>"
      ]
     },
     "execution_count": 146,
     "metadata": {},
     "output_type": "execute_result"
    }
   ],
   "source": [
    "⍝⎕USING←'System.IO,System.IO.FileSystem,System.IO.Stream'\n",
    "⍪ngc.Using'Parquet.Net'"
   ]
  },
  {
   "cell_type": "code",
   "execution_count": 148,
   "id": "ab686761",
   "metadata": {},
   "outputs": [
    {
     "data": {
      "text/html": [
       "<pre class=\"language-APL\">Could not load file or assembly 'file:///C:\\Users\\rpark\\.nuget\\packages\\Parquet.Net\\4.15.0\\lib\\netstandard1.3\\Apache.Arrow.dll' or one of its dependencies. The system cannot find the file specified.\n",
       "Could not load file or assembly 'file:///C:\\Users\\rpark\\.nuget\\packages\\Parquet.Net\\4.15.0\\lib\\netstandard2.0\\IronCompress.dll' or one of its dependencies. The system cannot find the file specified.\n",
       "Could not load file or assembly 'file:///C:\\Users\\rpark\\.nuget\\packages\\Parquet.Net\\4.15.0\\lib\\net462\\Microsoft.Bcl.AsyncInterfaces.dll' or one of its dependencies. The system cannot find the file specified.\n",
       "Could not load file or assembly 'file:///C:\\Users\\rpark\\.nuget\\packages\\Parquet.Net\\4.15.0\\lib\\netstandard2.0\\Microsoft.Data.Analysis.dll' or one of its dependencies. The system cannot find the file specified.\n",
       "Could not load file or assembly 'file:///C:\\Users\\rpark\\.nuget\\packages\\Parquet.Net\\4.15.0\\lib\\net462\\Microsoft.IO.RecyclableMemoryStream.dll' or one of its dependencies. The system cannot find the file specified.\n",
       "Could not load file or assembly 'file:///C:\\Users\\rpark\\.nuget\\packages\\Parquet.Net\\4.15.0\\lib\\netstandard2.0\\Microsoft.ML.DataView.dll' or one of its dependencies. The system cannot find the file specified.\n",
       "Could not load file or assembly 'file:///C:\\Users\\rpark\\.nuget\\packages\\Parquet.Net\\4.15.0\\lib\\net46\\Microsoft.Win32.Primitives.dll' or one of its dependencies. The system cannot find the file specified.\n",
       "Could not load file or assembly 'file:///C:\\Users\\rpark\\.nuget\\packages\\Parquet.Net\\4.15.0\\lib\\netstandard2.0\\Snappier.dll' or one of its dependencies. The system cannot find the file specified.\n",
       "Could not load file or assembly 'file:///C:\\Users\\rpark\\.nuget\\packages\\Parquet.Net\\4.15.0\\lib\\net463\\System.AppContext.dll' or one of its dependencies. The system cannot find the file specified.\n",
       "Could not load file or assembly 'file:///C:\\Users\\rpark\\.nuget\\packages\\Parquet.Net\\4.15.0\\lib\\net461\\System.Buffers.dll' or one of its dependencies. The system cannot find the file specified.\n",
       "Could not load file or assembly 'file:///C:\\Users\\rpark\\.nuget\\packages\\Parquet.Net\\4.15.0\\lib\\netstandard2.0\\System.Collections.Immutable.dll' or one of its dependencies. The system cannot find the file specified.\n",
       "Could not load file or assembly 'file:///C:\\Users\\rpark\\.nuget\\packages\\Parquet.Net\\4.15.0\\lib\\net46\\System.Console.dll' or one of its dependencies. The system cannot find the file specified.\n",
       "Could not load file or assembly 'file:///C:\\Users\\rpark\\.nuget\\packages\\Parquet.Net\\4.15.0\\lib\\net46\\System.Diagnostics.DiagnosticSource.dll' or one of its dependencies. The system cannot find the file specified.\n",
       "Could not load file or assembly 'file:///C:\\Users\\rpark\\.nuget\\packages\\Parquet.Net\\4.15.0\\lib\\net462\\System.Diagnostics.Tracing.dll' or one of its dependencies. The system cannot find the file specified.\n",
       "Could not load file or assembly 'file:///C:\\Users\\rpark\\.nuget\\packages\\Parquet.Net\\4.15.0\\lib\\net46\\System.Globalization.Calendars.dll' or one of its dependencies. The system cannot find the file specified.\n",
       "Could not load file or assembly 'file:///C:\\Users\\rpark\\.nuget\\packages\\Parquet.Net\\4.15.0\\lib\\net462\\System.IO.dll' or one of its dependencies. The system cannot find the file specified.\n",
       "Could not load file or assembly 'file:///C:\\Users\\rpark\\.nuget\\packages\\Parquet.Net\\4.15.0\\lib\\net46\\System.IO.Compression.dll' or one of its dependencies. The system cannot find the file specified.\n",
       "Could not load file or assembly 'file:///C:\\Users\\rpark\\.nuget\\packages\\Parquet.Net\\4.15.0\\lib\\net46\\System.IO.Compression.ZipFile.dll' or one of its dependencies. The system cannot find the file specified.\n",
       "Could not load file or assembly 'file:///C:\\Users\\rpark\\.nuget\\packages\\Parquet.Net\\4.15.0\\lib\\net46\\System.IO.FileSystem.dll' or one of its dependencies. The system cannot find the file specified.\n",
       "Could not load file or assembly 'file:///C:\\Users\\rpark\\.nuget\\packages\\Parquet.Net\\4.15.0\\lib\\net46\\System.IO.FileSystem.Primitives.dll' or one of its dependencies. The system cannot find the file specified.\n",
       "Could not load file or assembly 'file:///C:\\Users\\rpark\\.nuget\\packages\\Parquet.Net\\4.15.0\\lib\\net463\\System.Linq.dll' or one of its dependencies. The system cannot find the file specified.\n",
       "Could not load file or assembly 'file:///C:\\Users\\rpark\\.nuget\\packages\\Parquet.Net\\4.15.0\\lib\\net463\\System.Linq.Expressions.dll' or one of its dependencies. The system cannot find the file specified.\n",
       "Could not load file or assembly 'file:///C:\\Users\\rpark\\.nuget\\packages\\Parquet.Net\\4.15.0\\lib\\net461\\System.Memory.dll' or one of its dependencies. The system cannot find the file specified.\n",
       "Could not load file or assembly 'file:///C:\\Users\\rpark\\.nuget\\packages\\Parquet.Net\\4.15.0\\lib\\net46\\System.Net.Http.dll' or one of its dependencies. The system cannot find the file specified.\n",
       "Could not load file or assembly 'file:///C:\\Users\\rpark\\.nuget\\packages\\Parquet.Net\\4.15.0\\lib\\net46\\System.Net.Sockets.dll' or one of its dependencies. The system cannot find the file specified.\n",
       "Could not load file or assembly 'file:///C:\\Users\\rpark\\.nuget\\packages\\Parquet.Net\\4.15.0\\lib\\net46\\System.Numerics.Vectors.dll' or one of its dependencies. The system cannot find the file specified.\n",
       "Could not load file or assembly 'file:///C:\\Users\\rpark\\.nuget\\packages\\Parquet.Net\\4.15.0\\lib\\net462\\System.Reflection.dll' or one of its dependencies. The system cannot find the file specified.\n",
       "Could not load file or assembly 'file:///C:\\Users\\rpark\\.nuget\\packages\\Parquet.Net\\4.15.0\\lib\\net461\\System.Runtime.CompilerServices.Unsafe.dll' or one of its dependencies. The system cannot find the file specified.\n",
       "Could not load file or assembly 'file:///C:\\Users\\rpark\\.nuget\\packages\\Parquet.Net\\4.15.0\\lib\\net462\\System.Runtime.Extensions.dll' or one of its dependencies. The system cannot find the file specified.\n",
       "Could not load file or assembly 'file:///C:\\Users\\rpark\\.nuget\\packages\\Parquet.Net\\4.15.0\\lib\\net463\\System.Runtime.InteropServices.dll' or one of its dependencies. The system cannot find the file specified.\n",
       "Could not load file or assembly 'file:///C:\\Users\\rpark\\.nuget\\packages\\Parquet.Net\\4.15.0\\lib\\net45\\System.Runtime.InteropServices.RuntimeInformation.dll' or one of its dependencies. The system cannot find the file specified.\n",
       "Could not load file or assembly 'file:///C:\\Users\\rpark\\.nuget\\packages\\Parquet.Net\\4.15.0\\lib\\net463\\System.Security.Cryptography.Algorithms.dll' or one of its dependencies. The system cannot find the file specified.\n",
       "Could not load file or assembly 'file:///C:\\Users\\rpark\\.nuget\\packages\\Parquet.Net\\4.15.0\\lib\\net46\\System.Security.Cryptography.Encoding.dll' or one of its dependencies. The system cannot find the file specified.\n",
       "Could not load file or assembly 'file:///C:\\Users\\rpark\\.nuget\\packages\\Parquet.Net\\4.15.0\\lib\\net46\\System.Security.Cryptography.Primitives.dll' or one of its dependencies. The system cannot find the file specified.\n",
       "Could not load file or assembly 'file:///C:\\Users\\rpark\\.nuget\\packages\\Parquet.Net\\4.15.0\\lib\\net461\\System.Security.Cryptography.X509Certificates.dll' or one of its dependencies. The system cannot find the file specified.\n",
       "Could not load file or assembly 'file:///C:\\Users\\rpark\\.nuget\\packages\\Parquet.Net\\4.15.0\\lib\\net462\\System.Text.Encodings.Web.dll' or one of its dependencies. The system cannot find the file specified.\n",
       "Could not load file or assembly 'file:///C:\\Users\\rpark\\.nuget\\packages\\Parquet.Net\\4.15.0\\lib\\net462\\System.Text.Json.dll' or one of its dependencies. The system cannot find the file specified.\n",
       "Could not load file or assembly 'file:///C:\\Users\\rpark\\.nuget\\packages\\Parquet.Net\\4.15.0\\lib\\net463\\System.Text.RegularExpressions.dll' or one of its dependencies. The system cannot find the file specified.\n",
       "Could not load file or assembly 'file:///C:\\Users\\rpark\\.nuget\\packages\\Parquet.Net\\4.15.0\\lib\\net461\\System.Threading.Tasks.Extensions.dll' or one of its dependencies. The system cannot find the file specified.\n",
       "Could not load file or assembly 'file:///C:\\Users\\rpark\\.nuget\\packages\\Parquet.Net\\4.15.0\\lib\\net47\\System.ValueTuple.dll' or one of its dependencies. The system cannot find the file specified.\n",
       "Could not load file or assembly 'file:///C:\\Users\\rpark\\.nuget\\packages\\Parquet.Net\\4.15.0\\lib\\net46\\System.Xml.ReaderWriter.dll' or one of its dependencies. The system cannot find the file specified.\n",
       "Could not load file or assembly 'file:///C:\\Users\\rpark\\.nuget\\packages\\Parquet.Net\\4.15.0\\lib\\net461\\ZstdSharp.dll' or one of its dependencies. The system cannot find the file specified.\n",
       "Could not load file or assembly 'file:///C:\\Users\\rpark\\.nuget\\packages\\Parquet.Net\\4.15.0\\lib\\netstandard1.3\\Apache.Arrow.dll' or one of its dependencies. The system cannot find the file specified.\n",
       "Could not load file or assembly 'file:///C:\\Users\\rpark\\.nuget\\packages\\Parquet.Net\\4.15.0\\lib\\netstandard2.0\\IronCompress.dll' or one of its dependencies. The system cannot find the file specified.\n",
       "Could not load file or assembly 'file:///C:\\Users\\rpark\\.nuget\\packages\\Parquet.Net\\4.15.0\\lib\\net462\\Microsoft.Bcl.AsyncInterfaces.dll' or one of its dependencies. The system cannot find the file specified.\n",
       "Could not load file or assembly 'file:///C:\\Users\\rpark\\.nuget\\packages\\Parquet.Net\\4.15.0\\lib\\netstandard2.0\\Microsoft.Data.Analysis.dll' or one of its dependencies. The system cannot find the file specified.\n",
       "Could not load file or assembly 'file:///C:\\Users\\rpark\\.nuget\\packages\\Parquet.Net\\4.15.0\\lib\\net462\\Microsoft.IO.RecyclableMemoryStream.dll' or one of its dependencies. The system cannot find the file specified.\n",
       "Could not load file or assembly 'file:///C:\\Users\\rpark\\.nuget\\packages\\Parquet.Net\\4.15.0\\lib\\netstandard2.0\\Microsoft.ML.DataView.dll' or one of its dependencies. The system cannot find the file specified.\n",
       "Could not load file or assembly 'file:///C:\\Users\\rpark\\.nuget\\packages\\Parquet.Net\\4.15.0\\lib\\net46\\Microsoft.Win32.Primitives.dll' or one of its dependencies. The system cannot find the file specified.\n",
       "Could not load file or assembly 'file:///C:\\Users\\rpark\\.nuget\\packages\\Parquet.Net\\4.15.0\\lib\\netstandard2.0\\Snappier.dll' or one of its dependencies. The system cannot find the file specified.\n",
       "Could not load file or assembly 'file:///C:\\Users\\rpark\\.nuget\\packages\\Parquet.Net\\4.15.0\\lib\\net463\\System.AppContext.dll' or one of its dependencies. The system cannot find the file specified.\n",
       "Could not load file or assembly 'file:///C:\\Users\\rpark\\.nuget\\packages\\Parquet.Net\\4.15.0\\lib\\net461\\System.Buffers.dll' or one of its dependencies. The system cannot find the file specified.\n",
       "Could not load file or assembly 'file:///C:\\Users\\rpark\\.nuget\\packages\\Parquet.Net\\4.15.0\\lib\\netstandard2.0\\System.Collections.Immutable.dll' or one of its dependencies. The system cannot find the file specified.\n",
       "Could not load file or assembly 'file:///C:\\Users\\rpark\\.nuget\\packages\\Parquet.Net\\4.15.0\\lib\\net46\\System.Console.dll' or one of its dependencies. The system cannot find the file specified.\n",
       "Could not load file or assembly 'file:///C:\\Users\\rpark\\.nuget\\packages\\Parquet.Net\\4.15.0\\lib\\net46\\System.Diagnostics.DiagnosticSource.dll' or one of its dependencies. The system cannot find the file specified.\n",
       "Could not load file or assembly 'file:///C:\\Users\\rpark\\.nuget\\packages\\Parquet.Net\\4.15.0\\lib\\net462\\System.Diagnostics.Tracing.dll' or one of its dependencies. The system cannot find the file specified.\n",
       "Could not load file or assembly 'file:///C:\\Users\\rpark\\.nuget\\packages\\Parquet.Net\\4.15.0\\lib\\net46\\System.Globalization.Calendars.dll' or one of its dependencies. The system cannot find the file specified.\n",
       "Could not load file or assembly 'file:///C:\\Users\\rpark\\.nuget\\packages\\Parquet.Net\\4.15.0\\lib\\net462\\System.IO.dll' or one of its dependencies. The system cannot find the file specified.\n",
       "Could not load file or assembly 'file:///C:\\Users\\rpark\\.nuget\\packages\\Parquet.Net\\4.15.0\\lib\\net46\\System.IO.Compression.dll' or one of its dependencies. The system cannot find the file specified.\n",
       "Could not load file or assembly 'file:///C:\\Users\\rpark\\.nuget\\packages\\Parquet.Net\\4.15.0\\lib\\net46\\System.IO.Compression.ZipFile.dll' or one of its dependencies. The system cannot find the file specified.\n",
       "Could not load file or assembly 'file:///C:\\Users\\rpark\\.nuget\\packages\\Parquet.Net\\4.15.0\\lib\\net46\\System.IO.FileSystem.dll' or one of its dependencies. The system cannot find the file specified.\n",
       "Could not load file or assembly 'file:///C:\\Users\\rpark\\.nuget\\packages\\Parquet.Net\\4.15.0\\lib\\net46\\System.IO.FileSystem.Primitives.dll' or one of its dependencies. The system cannot find the file specified.\n",
       "Could not load file or assembly 'file:///C:\\Users\\rpark\\.nuget\\packages\\Parquet.Net\\4.15.0\\lib\\net463\\System.Linq.dll' or one of its dependencies. The system cannot find the file specified.\n",
       "Could not load file or assembly 'file:///C:\\Users\\rpark\\.nuget\\packages\\Parquet.Net\\4.15.0\\lib\\net463\\System.Linq.Expressions.dll' or one of its dependencies. The system cannot find the file specified.\n",
       "Could not load file or assembly 'file:///C:\\Users\\rpark\\.nuget\\packages\\Parquet.Net\\4.15.0\\lib\\net461\\System.Memory.dll' or one of its dependencies. The system cannot find the file specified.\n",
       "Could not load file or assembly 'file:///C:\\Users\\rpark\\.nuget\\packages\\Parquet.Net\\4.15.0\\lib\\net46\\System.Net.Http.dll' or one of its dependencies. The system cannot find the file specified.\n",
       "Could not load file or assembly 'file:///C:\\Users\\rpark\\.nuget\\packages\\Parquet.Net\\4.15.0\\lib\\net46\\System.Net.Sockets.dll' or one of its dependencies. The system cannot find the file specified.\n",
       "Could not load file or assembly 'file:///C:\\Users\\rpark\\.nuget\\packages\\Parquet.Net\\4.15.0\\lib\\net46\\System.Numerics.Vectors.dll' or one of its dependencies. The system cannot find the file specified.\n",
       "Could not load file or assembly 'file:///C:\\Users\\rpark\\.nuget\\packages\\Parquet.Net\\4.15.0\\lib\\net462\\System.Reflection.dll' or one of its dependencies. The system cannot find the file specified.\n",
       "Could not load file or assembly 'file:///C:\\Users\\rpark\\.nuget\\packages\\Parquet.Net\\4.15.0\\lib\\net461\\System.Runtime.CompilerServices.Unsafe.dll' or one of its dependencies. The system cannot find the file specified.\n",
       "Could not load file or assembly 'file:///C:\\Users\\rpark\\.nuget\\packages\\Parquet.Net\\4.15.0\\lib\\net462\\System.Runtime.Extensions.dll' or one of its dependencies. The system cannot find the file specified.\n",
       "Could not load file or assembly 'file:///C:\\Users\\rpark\\.nuget\\packages\\Parquet.Net\\4.15.0\\lib\\net463\\System.Runtime.InteropServices.dll' or one of its dependencies. The system cannot find the file specified.\n",
       "Could not load file or assembly 'file:///C:\\Users\\rpark\\.nuget\\packages\\Parquet.Net\\4.15.0\\lib\\net45\\System.Runtime.InteropServices.RuntimeInformation.dll' or one of its dependencies. The system cannot find the file specified.\n",
       "Could not load file or assembly 'file:///C:\\Users\\rpark\\.nuget\\packages\\Parquet.Net\\4.15.0\\lib\\net463\\System.Security.Cryptography.Algorithms.dll' or one of its dependencies. The system cannot find the file specified.\n",
       "Could not load file or assembly 'file:///C:\\Users\\rpark\\.nuget\\packages\\Parquet.Net\\4.15.0\\lib\\net46\\System.Security.Cryptography.Encoding.dll' or one of its dependencies. The system cannot find the file specified.\n",
       "Could not load file or assembly 'file:///C:\\Users\\rpark\\.nuget\\packages\\Parquet.Net\\4.15.0\\lib\\net46\\System.Security.Cryptography.Primitives.dll' or one of its dependencies. The system cannot find the file specified.\n",
       "Could not load file or assembly 'file:///C:\\Users\\rpark\\.nuget\\packages\\Parquet.Net\\4.15.0\\lib\\net461\\System.Security.Cryptography.X509Certificates.dll' or one of its dependencies. The system cannot find the file specified.\n",
       "Could not load file or assembly 'file:///C:\\Users\\rpark\\.nuget\\packages\\Parquet.Net\\4.15.0\\lib\\net462\\System.Text.Encodings.Web.dll' or one of its dependencies. The system cannot find the file specified.\n",
       "Could not load file or assembly 'file:///C:\\Users\\rpark\\.nuget\\packages\\Parquet.Net\\4.15.0\\lib\\net462\\System.Text.Json.dll' or one of its dependencies. The system cannot find the file specified.\n",
       "Could not load file or assembly 'file:///C:\\Users\\rpark\\.nuget\\packages\\Parquet.Net\\4.15.0\\lib\\net463\\System.Text.RegularExpressions.dll' or one of its dependencies. The system cannot find the file specified.\n",
       "Could not load file or assembly 'file:///C:\\Users\\rpark\\.nuget\\packages\\Parquet.Net\\4.15.0\\lib\\net461\\System.Threading.Tasks.Extensions.dll' or one of its dependencies. The system cannot find the file specified.\n",
       "Could not load file or assembly 'file:///C:\\Users\\rpark\\.nuget\\packages\\Parquet.Net\\4.15.0\\lib\\net47\\System.ValueTuple.dll' or one of its dependencies. The system cannot find the file specified.\n",
       "Could not load file or assembly 'file:///C:\\Users\\rpark\\.nuget\\packages\\Parquet.Net\\4.15.0\\lib\\net46\\System.Xml.ReaderWriter.dll' or one of its dependencies. The system cannot find the file specified.\n",
       "Could not load file or assembly 'file:///C:\\Users\\rpark\\.nuget\\packages\\Parquet.Net\\4.15.0\\lib\\net461\\ZstdSharp.dll' or one of its dependencies. The system cannot find the file specified.\n",
       "(Parquet)\n",
       "</pre>"
      ]
     },
     "execution_count": 148,
     "metadata": {},
     "output_type": "execute_result"
    }
   ],
   "source": [
    "⍝⎕USING←'System.IO,System.IO.dll,System.IO.FileSystem,System.IO.Stream'\n",
    "⎕USING←'' 'System' 'System.IO'\n",
    "⎕USING,←ngc.Using'Parquet.Net'\n",
    "Parquet"
   ]
  }
 ],
 "metadata": {
  "kernelspec": {
   "display_name": "Dyalog APL",
   "language": "apl",
   "name": "dyalog-kernel"
  },
  "language_info": {
   "file_extension": ".apl",
   "mimetype": "text/apl",
   "name": "APL"
  }
 },
 "nbformat": 4,
 "nbformat_minor": 5
}
